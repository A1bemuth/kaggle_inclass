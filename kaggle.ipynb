{
 "cells": [
  {
   "cell_type": "markdown",
   "metadata": {},
   "source": [
    "## Пример решения"
   ]
  },
  {
   "cell_type": "markdown",
   "metadata": {},
   "source": [
    "Kaggle"
   ]
  },
  {
   "cell_type": "code",
   "execution_count": 1,
   "metadata": {},
   "outputs": [],
   "source": [
    "import numpy\n",
    "import pandas\n",
    "import sklearn\n",
    "\n",
    "import xgboost as xgb"
   ]
  },
  {
   "cell_type": "markdown",
   "metadata": {},
   "source": [
    "Загружаем датасет"
   ]
  },
  {
   "cell_type": "code",
   "execution_count": 2,
   "metadata": {},
   "outputs": [],
   "source": [
    "train = pandas.read_csv('Train.csv')\n",
    "test = pandas.read_csv('Test.csv')"
   ]
  },
  {
   "cell_type": "code",
   "execution_count": 3,
   "metadata": {},
   "outputs": [
    {
     "name": "stdout",
     "output_type": "stream",
     "text": [
      "(100000, 25)\n"
     ]
    }
   ],
   "source": [
    "print(train.shape)"
   ]
  },
  {
   "cell_type": "code",
   "execution_count": 4,
   "metadata": {},
   "outputs": [
    {
     "data": {
      "text/html": [
       "<div>\n",
       "<style scoped>\n",
       "    .dataframe tbody tr th:only-of-type {\n",
       "        vertical-align: middle;\n",
       "    }\n",
       "\n",
       "    .dataframe tbody tr th {\n",
       "        vertical-align: top;\n",
       "    }\n",
       "\n",
       "    .dataframe thead th {\n",
       "        text-align: right;\n",
       "    }\n",
       "</style>\n",
       "<table border=\"1\" class=\"dataframe\">\n",
       "  <thead>\n",
       "    <tr style=\"text-align: right;\">\n",
       "      <th></th>\n",
       "      <th>id</th>\n",
       "      <th>date</th>\n",
       "      <th>street_id</th>\n",
       "      <th>build_tech</th>\n",
       "      <th>floor</th>\n",
       "      <th>area</th>\n",
       "      <th>rooms</th>\n",
       "      <th>balcon</th>\n",
       "      <th>metro_dist</th>\n",
       "      <th>g_lift</th>\n",
       "      <th>...</th>\n",
       "      <th>kw5</th>\n",
       "      <th>kw6</th>\n",
       "      <th>kw7</th>\n",
       "      <th>kw8</th>\n",
       "      <th>kw9</th>\n",
       "      <th>kw10</th>\n",
       "      <th>kw11</th>\n",
       "      <th>kw12</th>\n",
       "      <th>kw13</th>\n",
       "      <th>price</th>\n",
       "    </tr>\n",
       "  </thead>\n",
       "  <tbody>\n",
       "    <tr>\n",
       "      <th>0</th>\n",
       "      <td>0</td>\n",
       "      <td>2011-1</td>\n",
       "      <td>121</td>\n",
       "      <td>1.0</td>\n",
       "      <td>3</td>\n",
       "      <td>52</td>\n",
       "      <td>2</td>\n",
       "      <td>1</td>\n",
       "      <td>30.0</td>\n",
       "      <td>0.0</td>\n",
       "      <td>...</td>\n",
       "      <td>0</td>\n",
       "      <td>0</td>\n",
       "      <td>0</td>\n",
       "      <td>0</td>\n",
       "      <td>0</td>\n",
       "      <td>0</td>\n",
       "      <td>0</td>\n",
       "      <td>0</td>\n",
       "      <td>0</td>\n",
       "      <td>3090000</td>\n",
       "    </tr>\n",
       "    <tr>\n",
       "      <th>1</th>\n",
       "      <td>1</td>\n",
       "      <td>2011-1</td>\n",
       "      <td>58</td>\n",
       "      <td>1.0</td>\n",
       "      <td>6</td>\n",
       "      <td>101</td>\n",
       "      <td>3</td>\n",
       "      <td>1</td>\n",
       "      <td>5.0</td>\n",
       "      <td>NaN</td>\n",
       "      <td>...</td>\n",
       "      <td>0</td>\n",
       "      <td>0</td>\n",
       "      <td>0</td>\n",
       "      <td>0</td>\n",
       "      <td>0</td>\n",
       "      <td>0</td>\n",
       "      <td>0</td>\n",
       "      <td>0</td>\n",
       "      <td>0</td>\n",
       "      <td>15372000</td>\n",
       "    </tr>\n",
       "    <tr>\n",
       "      <th>2</th>\n",
       "      <td>2</td>\n",
       "      <td>2011-1</td>\n",
       "      <td>530</td>\n",
       "      <td>0.0</td>\n",
       "      <td>11</td>\n",
       "      <td>71</td>\n",
       "      <td>3</td>\n",
       "      <td>0</td>\n",
       "      <td>30.0</td>\n",
       "      <td>NaN</td>\n",
       "      <td>...</td>\n",
       "      <td>0</td>\n",
       "      <td>0</td>\n",
       "      <td>0</td>\n",
       "      <td>0</td>\n",
       "      <td>0</td>\n",
       "      <td>0</td>\n",
       "      <td>0</td>\n",
       "      <td>0</td>\n",
       "      <td>0</td>\n",
       "      <td>10067000</td>\n",
       "    </tr>\n",
       "    <tr>\n",
       "      <th>3</th>\n",
       "      <td>3</td>\n",
       "      <td>2011-1</td>\n",
       "      <td>448</td>\n",
       "      <td>NaN</td>\n",
       "      <td>5</td>\n",
       "      <td>36</td>\n",
       "      <td>1</td>\n",
       "      <td>1</td>\n",
       "      <td>15.0</td>\n",
       "      <td>0.0</td>\n",
       "      <td>...</td>\n",
       "      <td>0</td>\n",
       "      <td>0</td>\n",
       "      <td>0</td>\n",
       "      <td>0</td>\n",
       "      <td>0</td>\n",
       "      <td>0</td>\n",
       "      <td>0</td>\n",
       "      <td>0</td>\n",
       "      <td>0</td>\n",
       "      <td>3159000</td>\n",
       "    </tr>\n",
       "    <tr>\n",
       "      <th>4</th>\n",
       "      <td>4</td>\n",
       "      <td>2011-1</td>\n",
       "      <td>404</td>\n",
       "      <td>2.0</td>\n",
       "      <td>3</td>\n",
       "      <td>215</td>\n",
       "      <td>6</td>\n",
       "      <td>2</td>\n",
       "      <td>20.0</td>\n",
       "      <td>1.0</td>\n",
       "      <td>...</td>\n",
       "      <td>0</td>\n",
       "      <td>0</td>\n",
       "      <td>0</td>\n",
       "      <td>0</td>\n",
       "      <td>0</td>\n",
       "      <td>0</td>\n",
       "      <td>0</td>\n",
       "      <td>0</td>\n",
       "      <td>0</td>\n",
       "      <td>13816000</td>\n",
       "    </tr>\n",
       "  </tbody>\n",
       "</table>\n",
       "<p>5 rows × 25 columns</p>\n",
       "</div>"
      ],
      "text/plain": [
       "   id    date  street_id  build_tech  floor  area  rooms  balcon  metro_dist  \\\n",
       "0   0  2011-1        121         1.0      3    52      2       1        30.0   \n",
       "1   1  2011-1         58         1.0      6   101      3       1         5.0   \n",
       "2   2  2011-1        530         0.0     11    71      3       0        30.0   \n",
       "3   3  2011-1        448         NaN      5    36      1       1        15.0   \n",
       "4   4  2011-1        404         2.0      3   215      6       2        20.0   \n",
       "\n",
       "   g_lift    ...     kw5  kw6  kw7  kw8  kw9  kw10  kw11  kw12  kw13     price  \n",
       "0     0.0    ...       0    0    0    0    0     0     0     0     0   3090000  \n",
       "1     NaN    ...       0    0    0    0    0     0     0     0     0  15372000  \n",
       "2     NaN    ...       0    0    0    0    0     0     0     0     0  10067000  \n",
       "3     0.0    ...       0    0    0    0    0     0     0     0     0   3159000  \n",
       "4     1.0    ...       0    0    0    0    0     0     0     0     0  13816000  \n",
       "\n",
       "[5 rows x 25 columns]"
      ]
     },
     "execution_count": 4,
     "metadata": {},
     "output_type": "execute_result"
    }
   ],
   "source": [
    "train.head()"
   ]
  },
  {
   "cell_type": "markdown",
   "metadata": {},
   "source": [
    "С помощью метода describe() получим некоторую сводную информацию по всей таблице. По умолчанию будет выдана информация только для количественных признаков. Это общее их количество (count), среднее значение (mean), стандартное отклонение (std), минимальное (min), макcимальное (max) значения, медиана (50%) и значения нижнего (25%) и верхнего (75%) квартилей:"
   ]
  },
  {
   "cell_type": "code",
   "execution_count": 5,
   "metadata": {},
   "outputs": [
    {
     "data": {
      "text/html": [
       "<div>\n",
       "<style scoped>\n",
       "    .dataframe tbody tr th:only-of-type {\n",
       "        vertical-align: middle;\n",
       "    }\n",
       "\n",
       "    .dataframe tbody tr th {\n",
       "        vertical-align: top;\n",
       "    }\n",
       "\n",
       "    .dataframe thead th {\n",
       "        text-align: right;\n",
       "    }\n",
       "</style>\n",
       "<table border=\"1\" class=\"dataframe\">\n",
       "  <thead>\n",
       "    <tr style=\"text-align: right;\">\n",
       "      <th></th>\n",
       "      <th>id</th>\n",
       "      <th>street_id</th>\n",
       "      <th>build_tech</th>\n",
       "      <th>floor</th>\n",
       "      <th>area</th>\n",
       "      <th>rooms</th>\n",
       "      <th>balcon</th>\n",
       "      <th>metro_dist</th>\n",
       "      <th>g_lift</th>\n",
       "      <th>n_photos</th>\n",
       "      <th>...</th>\n",
       "      <th>kw5</th>\n",
       "      <th>kw6</th>\n",
       "      <th>kw7</th>\n",
       "      <th>kw8</th>\n",
       "      <th>kw9</th>\n",
       "      <th>kw10</th>\n",
       "      <th>kw11</th>\n",
       "      <th>kw12</th>\n",
       "      <th>kw13</th>\n",
       "      <th>price</th>\n",
       "    </tr>\n",
       "  </thead>\n",
       "  <tbody>\n",
       "    <tr>\n",
       "      <th>count</th>\n",
       "      <td>100000.000000</td>\n",
       "      <td>100000.000000</td>\n",
       "      <td>69896.000000</td>\n",
       "      <td>100000.000000</td>\n",
       "      <td>100000.000000</td>\n",
       "      <td>100000.00000</td>\n",
       "      <td>100000.000000</td>\n",
       "      <td>95047.000000</td>\n",
       "      <td>69943.000000</td>\n",
       "      <td>100000.000000</td>\n",
       "      <td>...</td>\n",
       "      <td>100000.000000</td>\n",
       "      <td>100000.000000</td>\n",
       "      <td>100000.000000</td>\n",
       "      <td>100000.00000</td>\n",
       "      <td>100000.000000</td>\n",
       "      <td>100000.000000</td>\n",
       "      <td>100000.000000</td>\n",
       "      <td>100000.000000</td>\n",
       "      <td>100000.000000</td>\n",
       "      <td>1.000000e+05</td>\n",
       "    </tr>\n",
       "    <tr>\n",
       "      <th>mean</th>\n",
       "      <td>49999.500000</td>\n",
       "      <td>334.506830</td>\n",
       "      <td>0.539015</td>\n",
       "      <td>5.280490</td>\n",
       "      <td>52.108100</td>\n",
       "      <td>2.11278</td>\n",
       "      <td>0.402810</td>\n",
       "      <td>21.799846</td>\n",
       "      <td>0.497762</td>\n",
       "      <td>2.480110</td>\n",
       "      <td>...</td>\n",
       "      <td>0.004090</td>\n",
       "      <td>0.001460</td>\n",
       "      <td>0.000650</td>\n",
       "      <td>0.00801</td>\n",
       "      <td>0.008320</td>\n",
       "      <td>0.001800</td>\n",
       "      <td>0.000290</td>\n",
       "      <td>0.001420</td>\n",
       "      <td>0.000220</td>\n",
       "      <td>5.329125e+06</td>\n",
       "    </tr>\n",
       "    <tr>\n",
       "      <th>std</th>\n",
       "      <td>28867.657797</td>\n",
       "      <td>194.178711</td>\n",
       "      <td>0.578554</td>\n",
       "      <td>3.947259</td>\n",
       "      <td>17.433424</td>\n",
       "      <td>0.82522</td>\n",
       "      <td>0.550869</td>\n",
       "      <td>8.342282</td>\n",
       "      <td>0.499999</td>\n",
       "      <td>1.945282</td>\n",
       "      <td>...</td>\n",
       "      <td>0.063823</td>\n",
       "      <td>0.038182</td>\n",
       "      <td>0.025487</td>\n",
       "      <td>0.08914</td>\n",
       "      <td>0.090834</td>\n",
       "      <td>0.042388</td>\n",
       "      <td>0.017027</td>\n",
       "      <td>0.037656</td>\n",
       "      <td>0.014831</td>\n",
       "      <td>4.669177e+06</td>\n",
       "    </tr>\n",
       "    <tr>\n",
       "      <th>min</th>\n",
       "      <td>0.000000</td>\n",
       "      <td>0.000000</td>\n",
       "      <td>0.000000</td>\n",
       "      <td>1.000000</td>\n",
       "      <td>29.000000</td>\n",
       "      <td>1.00000</td>\n",
       "      <td>0.000000</td>\n",
       "      <td>0.000000</td>\n",
       "      <td>0.000000</td>\n",
       "      <td>0.000000</td>\n",
       "      <td>...</td>\n",
       "      <td>0.000000</td>\n",
       "      <td>0.000000</td>\n",
       "      <td>0.000000</td>\n",
       "      <td>0.00000</td>\n",
       "      <td>0.000000</td>\n",
       "      <td>0.000000</td>\n",
       "      <td>0.000000</td>\n",
       "      <td>0.000000</td>\n",
       "      <td>0.000000</td>\n",
       "      <td>3.940000e+05</td>\n",
       "    </tr>\n",
       "    <tr>\n",
       "      <th>25%</th>\n",
       "      <td>24999.750000</td>\n",
       "      <td>165.000000</td>\n",
       "      <td>0.000000</td>\n",
       "      <td>2.000000</td>\n",
       "      <td>40.000000</td>\n",
       "      <td>1.00000</td>\n",
       "      <td>0.000000</td>\n",
       "      <td>15.000000</td>\n",
       "      <td>0.000000</td>\n",
       "      <td>1.000000</td>\n",
       "      <td>...</td>\n",
       "      <td>0.000000</td>\n",
       "      <td>0.000000</td>\n",
       "      <td>0.000000</td>\n",
       "      <td>0.00000</td>\n",
       "      <td>0.000000</td>\n",
       "      <td>0.000000</td>\n",
       "      <td>0.000000</td>\n",
       "      <td>0.000000</td>\n",
       "      <td>0.000000</td>\n",
       "      <td>2.673000e+06</td>\n",
       "    </tr>\n",
       "    <tr>\n",
       "      <th>50%</th>\n",
       "      <td>49999.500000</td>\n",
       "      <td>334.000000</td>\n",
       "      <td>0.000000</td>\n",
       "      <td>4.000000</td>\n",
       "      <td>52.000000</td>\n",
       "      <td>2.00000</td>\n",
       "      <td>0.000000</td>\n",
       "      <td>25.000000</td>\n",
       "      <td>0.000000</td>\n",
       "      <td>2.000000</td>\n",
       "      <td>...</td>\n",
       "      <td>0.000000</td>\n",
       "      <td>0.000000</td>\n",
       "      <td>0.000000</td>\n",
       "      <td>0.00000</td>\n",
       "      <td>0.000000</td>\n",
       "      <td>0.000000</td>\n",
       "      <td>0.000000</td>\n",
       "      <td>0.000000</td>\n",
       "      <td>0.000000</td>\n",
       "      <td>4.169500e+06</td>\n",
       "    </tr>\n",
       "    <tr>\n",
       "      <th>75%</th>\n",
       "      <td>74999.250000</td>\n",
       "      <td>503.000000</td>\n",
       "      <td>1.000000</td>\n",
       "      <td>7.000000</td>\n",
       "      <td>60.000000</td>\n",
       "      <td>3.00000</td>\n",
       "      <td>1.000000</td>\n",
       "      <td>30.000000</td>\n",
       "      <td>1.000000</td>\n",
       "      <td>4.000000</td>\n",
       "      <td>...</td>\n",
       "      <td>0.000000</td>\n",
       "      <td>0.000000</td>\n",
       "      <td>0.000000</td>\n",
       "      <td>0.00000</td>\n",
       "      <td>0.000000</td>\n",
       "      <td>0.000000</td>\n",
       "      <td>0.000000</td>\n",
       "      <td>0.000000</td>\n",
       "      <td>0.000000</td>\n",
       "      <td>6.414000e+06</td>\n",
       "    </tr>\n",
       "    <tr>\n",
       "      <th>max</th>\n",
       "      <td>99999.000000</td>\n",
       "      <td>671.000000</td>\n",
       "      <td>2.000000</td>\n",
       "      <td>25.000000</td>\n",
       "      <td>217.000000</td>\n",
       "      <td>6.00000</td>\n",
       "      <td>2.000000</td>\n",
       "      <td>30.000000</td>\n",
       "      <td>1.000000</td>\n",
       "      <td>11.000000</td>\n",
       "      <td>...</td>\n",
       "      <td>1.000000</td>\n",
       "      <td>1.000000</td>\n",
       "      <td>1.000000</td>\n",
       "      <td>1.00000</td>\n",
       "      <td>1.000000</td>\n",
       "      <td>1.000000</td>\n",
       "      <td>1.000000</td>\n",
       "      <td>1.000000</td>\n",
       "      <td>1.000000</td>\n",
       "      <td>1.104980e+08</td>\n",
       "    </tr>\n",
       "  </tbody>\n",
       "</table>\n",
       "<p>8 rows × 24 columns</p>\n",
       "</div>"
      ],
      "text/plain": [
       "                  id      street_id    build_tech          floor  \\\n",
       "count  100000.000000  100000.000000  69896.000000  100000.000000   \n",
       "mean    49999.500000     334.506830      0.539015       5.280490   \n",
       "std     28867.657797     194.178711      0.578554       3.947259   \n",
       "min         0.000000       0.000000      0.000000       1.000000   \n",
       "25%     24999.750000     165.000000      0.000000       2.000000   \n",
       "50%     49999.500000     334.000000      0.000000       4.000000   \n",
       "75%     74999.250000     503.000000      1.000000       7.000000   \n",
       "max     99999.000000     671.000000      2.000000      25.000000   \n",
       "\n",
       "                area         rooms         balcon    metro_dist        g_lift  \\\n",
       "count  100000.000000  100000.00000  100000.000000  95047.000000  69943.000000   \n",
       "mean       52.108100       2.11278       0.402810     21.799846      0.497762   \n",
       "std        17.433424       0.82522       0.550869      8.342282      0.499999   \n",
       "min        29.000000       1.00000       0.000000      0.000000      0.000000   \n",
       "25%        40.000000       1.00000       0.000000     15.000000      0.000000   \n",
       "50%        52.000000       2.00000       0.000000     25.000000      0.000000   \n",
       "75%        60.000000       3.00000       1.000000     30.000000      1.000000   \n",
       "max       217.000000       6.00000       2.000000     30.000000      1.000000   \n",
       "\n",
       "            n_photos      ...                 kw5            kw6  \\\n",
       "count  100000.000000      ...       100000.000000  100000.000000   \n",
       "mean        2.480110      ...            0.004090       0.001460   \n",
       "std         1.945282      ...            0.063823       0.038182   \n",
       "min         0.000000      ...            0.000000       0.000000   \n",
       "25%         1.000000      ...            0.000000       0.000000   \n",
       "50%         2.000000      ...            0.000000       0.000000   \n",
       "75%         4.000000      ...            0.000000       0.000000   \n",
       "max        11.000000      ...            1.000000       1.000000   \n",
       "\n",
       "                 kw7           kw8            kw9           kw10  \\\n",
       "count  100000.000000  100000.00000  100000.000000  100000.000000   \n",
       "mean        0.000650       0.00801       0.008320       0.001800   \n",
       "std         0.025487       0.08914       0.090834       0.042388   \n",
       "min         0.000000       0.00000       0.000000       0.000000   \n",
       "25%         0.000000       0.00000       0.000000       0.000000   \n",
       "50%         0.000000       0.00000       0.000000       0.000000   \n",
       "75%         0.000000       0.00000       0.000000       0.000000   \n",
       "max         1.000000       1.00000       1.000000       1.000000   \n",
       "\n",
       "                kw11           kw12           kw13         price  \n",
       "count  100000.000000  100000.000000  100000.000000  1.000000e+05  \n",
       "mean        0.000290       0.001420       0.000220  5.329125e+06  \n",
       "std         0.017027       0.037656       0.014831  4.669177e+06  \n",
       "min         0.000000       0.000000       0.000000  3.940000e+05  \n",
       "25%         0.000000       0.000000       0.000000  2.673000e+06  \n",
       "50%         0.000000       0.000000       0.000000  4.169500e+06  \n",
       "75%         0.000000       0.000000       0.000000  6.414000e+06  \n",
       "max         1.000000       1.000000       1.000000  1.104980e+08  \n",
       "\n",
       "[8 rows x 24 columns]"
      ]
     },
     "execution_count": 5,
     "metadata": {},
     "output_type": "execute_result"
    }
   ],
   "source": [
    "train.describe()"
   ]
  },
  {
   "cell_type": "markdown",
   "metadata": {},
   "source": [
    "Узнать количество заполненных (непропущенных) элементов можно с помощью метода count. Параметр axis = 0 указывает, что мы двигаемся по размерности 0 (сверху вниз), а не размерности 1 (слева направо), т.е. нас интересует количество заполненных элементов в каждом столбце, а не строке:"
   ]
  },
  {
   "cell_type": "code",
   "execution_count": 6,
   "metadata": {},
   "outputs": [
    {
     "data": {
      "text/plain": [
       "id            100000\n",
       "date          100000\n",
       "street_id     100000\n",
       "build_tech     69896\n",
       "floor         100000\n",
       "area          100000\n",
       "rooms         100000\n",
       "balcon        100000\n",
       "metro_dist     95047\n",
       "g_lift         69943\n",
       "n_photos      100000\n",
       "kw1           100000\n",
       "kw2           100000\n",
       "kw3           100000\n",
       "kw4           100000\n",
       "kw5           100000\n",
       "kw6           100000\n",
       "kw7           100000\n",
       "kw8           100000\n",
       "kw9           100000\n",
       "kw10          100000\n",
       "kw11          100000\n",
       "kw12          100000\n",
       "kw13          100000\n",
       "price         100000\n",
       "dtype: int64"
      ]
     },
     "execution_count": 6,
     "metadata": {},
     "output_type": "execute_result"
    }
   ],
   "source": [
    "train.count(axis=0)"
   ]
  },
  {
   "cell_type": "markdown",
   "metadata": {},
   "source": [
    "Заполнить пропущенные значения можно с помощью метода fillna. Заполним, например, медианными значениями.\n",
    "\n",
    "axis=0 по-прежнему указывает, что мы двигаемся сверху вниз:"
   ]
  },
  {
   "cell_type": "code",
   "execution_count": 7,
   "metadata": {},
   "outputs": [],
   "source": [
    "train = train.fillna(train.median(axis=0), axis=0)"
   ]
  },
  {
   "cell_type": "code",
   "execution_count": 8,
   "metadata": {},
   "outputs": [
    {
     "data": {
      "text/plain": [
       "id            100000\n",
       "date          100000\n",
       "street_id     100000\n",
       "build_tech    100000\n",
       "floor         100000\n",
       "area          100000\n",
       "rooms         100000\n",
       "balcon        100000\n",
       "metro_dist    100000\n",
       "g_lift        100000\n",
       "n_photos      100000\n",
       "kw1           100000\n",
       "kw2           100000\n",
       "kw3           100000\n",
       "kw4           100000\n",
       "kw5           100000\n",
       "kw6           100000\n",
       "kw7           100000\n",
       "kw8           100000\n",
       "kw9           100000\n",
       "kw10          100000\n",
       "kw11          100000\n",
       "kw12          100000\n",
       "kw13          100000\n",
       "price         100000\n",
       "dtype: int64"
      ]
     },
     "execution_count": 8,
     "metadata": {},
     "output_type": "execute_result"
    }
   ],
   "source": [
    "train.count(axis=0)"
   ]
  },
  {
   "cell_type": "code",
   "execution_count": 9,
   "metadata": {},
   "outputs": [
    {
     "data": {
      "text/plain": [
       "count     100000\n",
       "unique        18\n",
       "top       2011-8\n",
       "freq        5735\n",
       "Name: date, dtype: object"
      ]
     },
     "execution_count": 9,
     "metadata": {},
     "output_type": "execute_result"
    }
   ],
   "source": [
    "train['date'].describe()"
   ]
  },
  {
   "cell_type": "code",
   "execution_count": 10,
   "metadata": {},
   "outputs": [
    {
     "name": "stdout",
     "output_type": "stream",
     "text": [
      "['date']\n",
      "['id', 'street_id', 'build_tech', 'floor', 'area', 'rooms', 'balcon', 'metro_dist', 'g_lift', 'n_photos', 'kw1', 'kw2', 'kw3', 'kw4', 'kw5', 'kw6', 'kw7', 'kw8', 'kw9', 'kw10', 'kw11', 'kw12', 'kw13', 'price']\n"
     ]
    }
   ],
   "source": [
    "categorical_columns = [c for c in train.columns if train[c].dtype.name == 'object']\n",
    "numerical_columns   = [c for c in train.columns if train[c].dtype.name != 'object']\n",
    "print(categorical_columns)\n",
    "print(numerical_columns)"
   ]
  },
  {
   "cell_type": "markdown",
   "metadata": {},
   "source": [
    "пока что уберем колонку дата из выборки"
   ]
  },
  {
   "cell_type": "markdown",
   "metadata": {},
   "source": [
    "Подготавляваем признаки"
   ]
  },
  {
   "cell_type": "code",
   "execution_count": 11,
   "metadata": {},
   "outputs": [],
   "source": [
    "y_train = train['price'].values"
   ]
  },
  {
   "cell_type": "code",
   "execution_count": 12,
   "metadata": {},
   "outputs": [],
   "source": [
    "X_train = train[['street_id',\n",
    "          'build_tech',\n",
    "          'floor',\n",
    "          'area',\n",
    "          'rooms',\n",
    "          'balcon',\n",
    "          'metro_dist',\n",
    "          'g_lift',\n",
    "          'n_photos',\n",
    "          'kw1',\n",
    "          'kw2',\n",
    "          'kw3',\n",
    "          'kw4',\n",
    "          'kw5',\n",
    "          'kw6',\n",
    "          'kw7',\n",
    "          'kw8',\n",
    "          'kw9',\n",
    "          'kw10',\n",
    "          'kw11',\n",
    "          'kw12',\n",
    "          'kw13']].values"
   ]
  },
  {
   "cell_type": "code",
   "execution_count": 13,
   "metadata": {},
   "outputs": [],
   "source": [
    "X_test = test[['street_id',\n",
    "          'build_tech',\n",
    "          'floor',\n",
    "          'area',\n",
    "          'rooms',\n",
    "          'balcon',\n",
    "          'metro_dist',\n",
    "          'g_lift',\n",
    "          'n_photos',\n",
    "          'kw1',\n",
    "          'kw2',\n",
    "          'kw3',\n",
    "          'kw4',\n",
    "          'kw5',\n",
    "          'kw6',\n",
    "          'kw7',\n",
    "          'kw8',\n",
    "          'kw9',\n",
    "          'kw10',\n",
    "          'kw11',\n",
    "          'kw12',\n",
    "          'kw13']].values"
   ]
  },
  {
   "cell_type": "markdown",
   "metadata": {},
   "source": [
    "Выполняем преобразование признаков"
   ]
  },
  {
   "cell_type": "code",
   "execution_count": 14,
   "metadata": {},
   "outputs": [
    {
     "data": {
      "text/plain": [
       "array([[0.18032787, 0.5       , 0.08333333, ..., 0.        , 0.        ,\n",
       "        0.        ],\n",
       "       [0.08643815, 0.5       , 0.20833333, ..., 0.        , 0.        ,\n",
       "        0.        ],\n",
       "       [0.78986587, 0.        , 0.41666667, ..., 0.        , 0.        ,\n",
       "        0.        ],\n",
       "       ...,\n",
       "       [0.42622951, 0.        , 0.25      , ..., 0.        , 0.        ,\n",
       "        0.        ],\n",
       "       [0.61400894, 0.        , 0.16666667, ..., 0.        , 0.        ,\n",
       "        0.        ],\n",
       "       [0.36661699, 0.        , 0.08333333, ..., 0.        , 0.        ,\n",
       "        0.        ]])"
      ]
     },
     "execution_count": 14,
     "metadata": {},
     "output_type": "execute_result"
    }
   ],
   "source": [
    "sklearn.preprocessing.MinMaxScaler().fit_transform(X_train, y_train)"
   ]
  },
  {
   "cell_type": "markdown",
   "metadata": {},
   "source": [
    "Обучаться, или, как говорят, строить модель, мы будем на обучающей выборке, а проверять качество построенной модели – на тестовой. Разбиение на тестовую и обучающую выборку должно быть случайным. Обычно используют разбиения в пропорции 50%:50%, 60%:40%, 75%:25% и т.д.\n",
    "\n",
    "Мы воспользуемся функцией train_test_split из модуля sklearn.cross_validation. и разобьем данные на обучающую/тестовую выборки в отношении 70%:30%:"
   ]
  },
  {
   "cell_type": "code",
   "execution_count": 15,
   "metadata": {},
   "outputs": [],
   "source": [
    "from sklearn.model_selection import train_test_split"
   ]
  },
  {
   "cell_type": "code",
   "execution_count": 16,
   "metadata": {},
   "outputs": [
    {
     "name": "stdout",
     "output_type": "stream",
     "text": [
      "100000 100000\n"
     ]
    }
   ],
   "source": [
    "N_train, _ = X_train.shape \n",
    "N_test,  _ = X_test.shape \n",
    "print(N_train, N_test)"
   ]
  },
  {
   "cell_type": "markdown",
   "metadata": {},
   "source": [
    "GBT – градиентный бустинг деревьев решений¶\n",
    "GBT – еще один метод, строящий ансамбль деревьев решений. На каждой итерации строится новый классификатор, аппроксимирующий значение градиента функции потерь."
   ]
  },
  {
   "cell_type": "code",
   "execution_count": 18,
   "metadata": {},
   "outputs": [],
   "source": [
    "from sklearn import ensemble"
   ]
  },
  {
   "cell_type": "code",
   "execution_count": null,
   "metadata": {},
   "outputs": [
    {
     "name": "stdout",
     "output_type": "stream",
     "text": [
      "      Iter       Train Loss   Remaining Time \n"
     ]
    }
   ],
   "source": [
    "gbt = ensemble.GradientBoostingClassifier(n_estimators=50, verbose=2)\n",
    "gbt.fit(X_train, y_train)"
   ]
  },
  {
   "cell_type": "code",
   "execution_count": null,
   "metadata": {},
   "outputs": [],
   "source": [
    "err_train = np.mean(y_train != gbt.predict(X_train))\n",
    "print(err_train)"
   ]
  },
  {
   "cell_type": "code",
   "execution_count": null,
   "metadata": {},
   "outputs": [],
   "source": [
    "print(gbt.predict(X_test))"
   ]
  }
 ],
 "metadata": {
  "kernelspec": {
   "display_name": "Python 3",
   "language": "python",
   "name": "python3"
  },
  "language_info": {
   "codemirror_mode": {
    "name": "ipython",
    "version": 3
   },
   "file_extension": ".py",
   "mimetype": "text/x-python",
   "name": "python",
   "nbconvert_exporter": "python",
   "pygments_lexer": "ipython3",
   "version": "3.7.0"
  },
  "toc": {
   "base_numbering": 1,
   "nav_menu": {},
   "number_sections": true,
   "sideBar": true,
   "skip_h1_title": false,
   "title_cell": "Table of Contents",
   "title_sidebar": "Contents",
   "toc_cell": false,
   "toc_position": {},
   "toc_section_display": true,
   "toc_window_display": false
  }
 },
 "nbformat": 4,
 "nbformat_minor": 2
}
